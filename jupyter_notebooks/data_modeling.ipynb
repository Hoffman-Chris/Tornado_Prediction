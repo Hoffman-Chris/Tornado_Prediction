{
 "cells": [
  {
   "cell_type": "markdown",
   "id": "ba86ca7b",
   "metadata": {},
   "source": [
    "# Data Modeling"
   ]
  },
  {
   "cell_type": "code",
   "execution_count": 1,
   "id": "ba317e5e",
   "metadata": {},
   "outputs": [],
   "source": [
    "import pandas as pd\n",
    "import numpy as np\n",
    "import seaborn as sns\n",
    "from sklearn.linear_model import LinearRegression, LogisticRegression\n",
    "from sklearn.model_selection import train_test_split, cross_val_score\n",
    "from sklearn.dummy import DummyRegressor, DummyClassifier\n",
    "from sklearn.pipeline import Pipeline\n",
    "from sklearn.preprocessing import PolynomialFeatures, StandardScaler, OneHotEncoder\n",
    "from sklearn.compose import ColumnTransformer"
   ]
  },
  {
   "cell_type": "code",
   "execution_count": 2,
   "id": "330e54c5",
   "metadata": {
    "scrolled": true
   },
   "outputs": [],
   "source": [
    "tnd_climate = pd.read_csv('data/clean/all_counties_tnd_climate_combined.csv')\n",
    "tnd_climate = tnd_climate[tnd_climate['County'] != 'Menominee County']\n",
    "hot_tnd_climate = pd.read_csv('data/clean/hot_counties_tnd_wint.csv')\n",
    "hot_tnd_climate = hot_tnd_climate[hot_tnd_climate['County'] != 'Menominee County']\n",
    "hotter_tnd_climate = pd.read_csv('data/clean/hotter_counties_tnd_wint.csv')\n",
    "hotter_tnd_climate = hotter_tnd_climate[hotter_tnd_climate['County'] != 'Menominee County']"
   ]
  },
  {
   "cell_type": "code",
   "execution_count": 3,
   "id": "4cd69e3b",
   "metadata": {},
   "outputs": [],
   "source": [
    "tnd_climate.loc[:, 'County'] = tnd_climate['County'].astype('category')\n",
    "hot_tnd_climate.loc[:, 'County'] = hot_tnd_climate['County'].astype('category')\n",
    "hotter_tnd_climate.loc[:, 'County'] = hotter_tnd_climate['County'].astype('category')"
   ]
  },
  {
   "cell_type": "code",
   "execution_count": 4,
   "id": "370a02b7",
   "metadata": {},
   "outputs": [],
   "source": [
    "train, test = train_test_split(tnd_climate, test_size = 0.2, random_state=10)\n",
    "hot_county_train, hot_county_test = train_test_split(hot_tnd_climate, test_size = 0.2, random_state=10)\n",
    "hotter_county_train, hotter_county_test = train_test_split(hotter_tnd_climate, test_size = 0.2, random_state=10)"
   ]
  },
  {
   "cell_type": "code",
   "execution_count": 5,
   "id": "60ecd1c8",
   "metadata": {},
   "outputs": [],
   "source": [
    "def linear_regression_model(X_train, y_train):\n",
    "    print(\"Linear Regression Models\")\n",
    "    linear_regression_model_separate(X_train, y_train)\n",
    "    linear_regression_model_combined(X_train, y_train)"
   ]
  },
  {
   "cell_type": "code",
   "execution_count": 6,
   "id": "e1e40d2a",
   "metadata": {},
   "outputs": [],
   "source": [
    "def linear_regression_model_separate(X_train, y_train):\n",
    "    model = LinearRegression()\n",
    "    for i in range(X_train.shape[1]):\n",
    "        x_train = pd.DataFrame(X_train.iloc[:, i])\n",
    "        val_error = -1 * cross_val_score(model, x_train, y_train, scoring='neg_mean_squared_error', cv=5).mean()\n",
    "        print(f\"Model: {X_train.columns[i]}\")\n",
    "        print(f\"val_error = {val_error:6.3f}\")"
   ]
  },
  {
   "cell_type": "code",
   "execution_count": 7,
   "id": "c6e74fbc",
   "metadata": {},
   "outputs": [],
   "source": [
    "def linear_regression_model_combined(X_train, y_train):\n",
    "    model = LinearRegression()\n",
    "    val_error = -1 * cross_val_score(model, X_train, y_train, scoring='neg_mean_squared_error', cv=5).mean()\n",
    "    print(f\"Model: Combined\")\n",
    "    print(f\"val_error = {val_error:6.3f}\")"
   ]
  },
  {
   "cell_type": "code",
   "execution_count": 8,
   "id": "09ea51f2",
   "metadata": {},
   "outputs": [],
   "source": [
    "def polynomial_regression_model(X_train, y_train, degree_range):\n",
    "    print(\"Polynomial Regression Models\")\n",
    "    polynomial_regression_model_separate(X_train, y_train, degree_range)\n",
    "    polynomial_regression_model_combined(X_train, y_train, degree_range)"
   ]
  },
  {
   "cell_type": "code",
   "execution_count": 9,
   "id": "3859c7a1",
   "metadata": {},
   "outputs": [],
   "source": [
    "def polynomial_regression_model_separate(X_train, y_train, degree_range):\n",
    "    for i in range(X_train.shape[1]):\n",
    "        for j in range(degree_range):\n",
    "            model = Pipeline(steps=[\n",
    "                ('poly', PolynomialFeatures(degree=j + 1, include_bias=False)),\n",
    "                ('lm', LinearRegression())\n",
    "            ])\n",
    "            x_train = pd.DataFrame(X_train.iloc[:, i])\n",
    "            val_error = -1 * cross_val_score(model, x_train, y_train, scoring='neg_mean_squared_error', cv=5).mean()\n",
    "            print(f\"Model {X_train.columns[i]}: degree {j+1}\")\n",
    "            print(f\"val_error = {val_error:6.3f}\")"
   ]
  },
  {
   "cell_type": "code",
   "execution_count": 10,
   "id": "fc78b9b4",
   "metadata": {},
   "outputs": [],
   "source": [
    "def polynomial_regression_model_combined(X_train, y_train, degree_range):\n",
    "    for j in range(degree_range):\n",
    "        model = Pipeline(steps=[\n",
    "            ('poly', PolynomialFeatures(degree=j + 1, include_bias=False)),\n",
    "            ('scaler', StandardScaler()),\n",
    "            ('lm', LinearRegression())\n",
    "        ])\n",
    "\n",
    "        val_error = -1 * cross_val_score(model, X_train, y_train, scoring='neg_mean_squared_error', cv=5).mean()\n",
    "        print(f\"Model Combined: degree {j+1}\")\n",
    "        print(f\"val_error = {val_error:6.3f}\")"
   ]
  },
  {
   "cell_type": "code",
   "execution_count": 11,
   "id": "625b1901",
   "metadata": {},
   "outputs": [],
   "source": [
    "def logistic_regression_model(X_train, y_train):\n",
    "    print(\"Logistic Regression Models\")\n",
    "    logistic_regression_model_separate(X_train, y_train)\n",
    "    logistic_regression_model_combined(X_train, y_train)"
   ]
  },
  {
   "cell_type": "code",
   "execution_count": 12,
   "id": "d53ab33b",
   "metadata": {},
   "outputs": [],
   "source": [
    "def logistic_regression_model_separate(X_train, y_train):\n",
    "    model = LogisticRegression(class_weight='balanced')\n",
    "    for i in range(X_train.shape[1]):\n",
    "        x_train = pd.DataFrame(X_train.iloc[:, i])\n",
    "        accuracy = cross_val_score(model, x_train, y_train, scoring='accuracy', cv=5).mean()\n",
    "        precision = cross_val_score(model, x_train, y_train, scoring='precision', cv=5).mean()\n",
    "        recall = cross_val_score(model, x_train, y_train, scoring='recall', cv=5).mean()  \n",
    "        f_score = 2 * (precision * recall) / (precision + recall)\n",
    "        print(f\"Logistic Model: {X_train.columns[i]}\")\n",
    "        print(f\"accuracy = {accuracy:6.3f}\")\n",
    "        print(f\"precision = {precision:6.3f}\")\n",
    "        print(f\"recall = {recall:6.3f}\") \n",
    "        print(f\"f_score = {f_score:6.3f}\")"
   ]
  },
  {
   "cell_type": "code",
   "execution_count": 13,
   "id": "50563111",
   "metadata": {},
   "outputs": [],
   "source": [
    "def logistic_regression_model_combined(X_train, y_train):\n",
    "    model = LogisticRegression(class_weight='balanced')\n",
    "    accuracy = cross_val_score(model, X_train, y_train, scoring='accuracy', cv=5).mean()\n",
    "    precision = cross_val_score(model, X_train, y_train, scoring='precision', cv=5).mean()\n",
    "    recall = cross_val_score(model, X_train, y_train, scoring='recall', cv=5).mean()    \n",
    "    f_score = 2 * (precision * recall) / (precision + recall)\n",
    "    print(f\"Logistic Model: Combined\")\n",
    "    print(f\"accuracy = {accuracy:6.3f}\")\n",
    "    print(f\"precision = {precision:6.3f}\")\n",
    "    print(f\"recall = {recall:6.3f}\")\n",
    "    print(f\"f_score = {f_score:6.3f}\")"
   ]
  },
  {
   "cell_type": "code",
   "execution_count": 14,
   "id": "0cc9d96c",
   "metadata": {},
   "outputs": [],
   "source": [
    "def logistic_regression_onehot(X_train, y_train, categorical_names, quant_names):\n",
    "    print(f\"Logistic Regression Models One Hot Encoding {categorical_names}\")\n",
    "    logistic_regression_onehot_separate(X_train, y_train, categorical_names, quant_names)\n",
    "    logistic_regression_onehot_combined(X_train, y_train, categorical_names, quant_names)"
   ]
  },
  {
   "cell_type": "code",
   "execution_count": 15,
   "id": "5121ffe6",
   "metadata": {},
   "outputs": [],
   "source": [
    "def logistic_regression_onehot_separate(X_train, y_train, categorical_names, quant_names):\n",
    "    for i in range(len(quant_names)):\n",
    "        column_trans = ColumnTransformer(transformers=[\n",
    "            ('scaler', StandardScaler(), [quant_names[i]]),\n",
    "            ('onehot', OneHotEncoder(), categorical_names)\n",
    "        ])\n",
    "\n",
    "        model = Pipeline(steps=[\n",
    "            ('preprocessor', column_trans),\n",
    "            ('lm', LogisticRegression(class_weight='balanced', max_iter=200))\n",
    "        ])\n",
    "\n",
    "        accuracy = cross_val_score(model, X_train, y_train, scoring='accuracy', cv=5).mean()\n",
    "        precision = cross_val_score(model, X_train, y_train, scoring='precision', cv=5).mean()\n",
    "        recall = cross_val_score(model, X_train, y_train, scoring='recall', cv=5).mean() \n",
    "        f_score = 2 * (precision * recall) / (precision + recall)\n",
    "        print(f\"One Hot Logistic Model: {quant_names[i]}\")\n",
    "        print(f\"accuracy = {accuracy:6.3f}\")\n",
    "        print(f\"precision = {precision:6.3f}\")\n",
    "        print(f\"recall = {recall:6.3f}\")\n",
    "        print(f\"f_score = {f_score:6.3f}\")"
   ]
  },
  {
   "cell_type": "code",
   "execution_count": 16,
   "id": "6a9412f7",
   "metadata": {},
   "outputs": [],
   "source": [
    "def logistic_regression_onehot_combined(X_train, y_train, categorical_names, quant_names):\n",
    "    column_trans = ColumnTransformer(transformers=[\n",
    "        ('scaler', StandardScaler(), quant_names),\n",
    "        ('onehot', OneHotEncoder(), categorical_names)\n",
    "    ])\n",
    "\n",
    "    model = Pipeline(steps=[\n",
    "        ('preprocessor', column_trans),\n",
    "        ('lm', LogisticRegression(class_weight='balanced', max_iter=200))\n",
    "    ])\n",
    "\n",
    "    accuracy = cross_val_score(model, X_train, y_train, scoring='accuracy', cv=5).mean()\n",
    "    precision = cross_val_score(model, X_train, y_train, scoring='precision', cv=5).mean()\n",
    "    recall = cross_val_score(model, X_train, y_train, scoring='recall', cv=5).mean()    \n",
    "    f_score = 2 * (precision * recall) / (precision + recall)\n",
    "    print(f\"One Hot Logistic Model: Combined\")\n",
    "    print(f\"accuracy = {accuracy:6.3f}\")\n",
    "    print(f\"precision = {precision:6.3f}\")\n",
    "    print(f\"recall = {recall:6.3f}\")\n",
    "    print(f\"f_score = {f_score:6.3f}\")"
   ]
  },
  {
   "cell_type": "markdown",
   "id": "d0f7c3b7",
   "metadata": {},
   "source": [
    "# Modeling 1\n",
    "Some baseline models using each quantitative attribute individually and all of them together"
   ]
  },
  {
   "cell_type": "code",
   "execution_count": 17,
   "id": "910e828a",
   "metadata": {},
   "outputs": [],
   "source": [
    "quant_attr = train[['AvgTmp', 'AvgMaxTmp', 'AvgMinTmp', 'AvgPrecip', 'TotPrecip', 'MaxTmp', 'MinTmp']]\n",
    "y_train = train[['Count']]"
   ]
  },
  {
   "cell_type": "code",
   "execution_count": 18,
   "id": "9b9b4091",
   "metadata": {},
   "outputs": [
    {
     "name": "stdout",
     "output_type": "stream",
     "text": [
      "Linear Regression Models\n",
      "Model: AvgTmp\n",
      "val_error =  0.487\n",
      "Model: AvgMaxTmp\n",
      "val_error =  0.487\n",
      "Model: AvgMinTmp\n",
      "val_error =  0.487\n",
      "Model: AvgPrecip\n",
      "val_error =  0.488\n",
      "Model: TotPrecip\n",
      "val_error =  0.488\n",
      "Model: MaxTmp\n",
      "val_error =  0.487\n",
      "Model: MinTmp\n",
      "val_error =  0.487\n",
      "Model: Combined\n",
      "val_error =  0.487\n"
     ]
    }
   ],
   "source": [
    "linear_regression_model(quant_attr, y_train)"
   ]
  },
  {
   "cell_type": "code",
   "execution_count": 19,
   "id": "acaf877e",
   "metadata": {},
   "outputs": [
    {
     "name": "stdout",
     "output_type": "stream",
     "text": [
      "dummy_error =  0.487\n"
     ]
    }
   ],
   "source": [
    "dummy_regr = DummyRegressor(strategy=\"mean\")\n",
    "dummy_error = -1 * cross_val_score(dummy_regr, quant_attr, y_train, scoring='neg_mean_squared_error', cv=5).mean()\n",
    "print(f\"dummy_error = {dummy_error:6.3f}\")"
   ]
  },
  {
   "cell_type": "markdown",
   "id": "44be1d57",
   "metadata": {},
   "source": [
    "dummy regression model performed just as well as the others"
   ]
  },
  {
   "cell_type": "markdown",
   "id": "ed1bf313",
   "metadata": {},
   "source": [
    "# Modeling 2\n",
    "utilizing polynomial regression to see if attributes benefit from a higher degree polynomial"
   ]
  },
  {
   "cell_type": "code",
   "execution_count": 20,
   "id": "8cbe5b91",
   "metadata": {},
   "outputs": [
    {
     "name": "stdout",
     "output_type": "stream",
     "text": [
      "Polynomial Regression Models\n",
      "Model AvgTmp: degree 1\n",
      "val_error =  0.487\n",
      "Model AvgTmp: degree 2\n",
      "val_error =  0.485\n",
      "Model AvgTmp: degree 3\n",
      "val_error =  0.485\n",
      "Model AvgMaxTmp: degree 1\n",
      "val_error =  0.487\n",
      "Model AvgMaxTmp: degree 2\n",
      "val_error =  0.485\n",
      "Model AvgMaxTmp: degree 3\n",
      "val_error =  0.485\n",
      "Model AvgMinTmp: degree 1\n",
      "val_error =  0.487\n",
      "Model AvgMinTmp: degree 2\n",
      "val_error =  0.485\n",
      "Model AvgMinTmp: degree 3\n",
      "val_error =  0.485\n",
      "Model AvgPrecip: degree 1\n",
      "val_error =  0.488\n",
      "Model AvgPrecip: degree 2\n",
      "val_error =  0.488\n",
      "Model AvgPrecip: degree 3\n",
      "val_error =  0.488\n",
      "Model TotPrecip: degree 1\n",
      "val_error =  0.488\n",
      "Model TotPrecip: degree 2\n",
      "val_error =  0.488\n",
      "Model TotPrecip: degree 3\n",
      "val_error =  0.488\n",
      "Model MaxTmp: degree 1\n",
      "val_error =  0.487\n",
      "Model MaxTmp: degree 2\n",
      "val_error =  0.485\n",
      "Model MaxTmp: degree 3\n",
      "val_error =  0.485\n",
      "Model MinTmp: degree 1\n",
      "val_error =  0.487\n",
      "Model MinTmp: degree 2\n",
      "val_error =  0.486\n",
      "Model MinTmp: degree 3\n",
      "val_error =  0.486\n",
      "Model Combined: degree 1\n",
      "val_error =  0.487\n",
      "Model Combined: degree 2\n",
      "val_error =  0.485\n",
      "Model Combined: degree 3\n",
      "val_error =  0.492\n"
     ]
    }
   ],
   "source": [
    "polynomial_regression_model(quant_attr, y_train, 3)"
   ]
  },
  {
   "cell_type": "markdown",
   "id": "aaf8a07e",
   "metadata": {},
   "source": [
    "No attributes benefit significantly if at all from a higher order polynomial"
   ]
  },
  {
   "cell_type": "markdown",
   "id": "cc532ad8",
   "metadata": {},
   "source": [
    "# A Little More Exploratory Analysis"
   ]
  },
  {
   "cell_type": "code",
   "execution_count": 21,
   "id": "41ecc92e",
   "metadata": {
    "scrolled": true
   },
   "outputs": [
    {
     "data": {
      "text/plain": [
       "<AxesSubplot:xlabel='AvgTmp', ylabel='Count'>"
      ]
     },
     "execution_count": 21,
     "metadata": {},
     "output_type": "execute_result"
    },
    {
     "data": {
      "image/png": "[encoded data removed]",
      "text/plain": [
       "<Figure size 432x288 with 1 Axes>"
      ]
     },
     "metadata": {
      "needs_background": "light"
     },
     "output_type": "display_data"
    }
   ],
   "source": [
    "sns.scatterplot(data=tnd_climate, x='AvgTmp', y='Count')"
   ]
  },
  {
   "cell_type": "markdown",
   "id": "2d6a1f31",
   "metadata": {},
   "source": [
    "It looks like tornadoes are less likely to happen when there are very hot or very cold winters relatively"
   ]
  },
  {
   "cell_type": "code",
   "execution_count": 22,
   "id": "64ab2dfd",
   "metadata": {
    "scrolled": true
   },
   "outputs": [
    {
     "data": {
      "text/plain": [
       "<AxesSubplot:xlabel='AvgTmp', ylabel='TndOcc'>"
      ]
     },
     "execution_count": 22,
     "metadata": {},
     "output_type": "execute_result"
    },
    {
     "data": {
      "image/png": "[encoded data removed]",
      "text/plain": [
       "<Figure size 432x288 with 1 Axes>"
      ]
     },
     "metadata": {
      "needs_background": "light"
     },
     "output_type": "display_data"
    }
   ],
   "source": [
    "sns.scatterplot(data=tnd_climate, x='AvgTmp', y='TndOcc')"
   ]
  },
  {
   "cell_type": "markdown",
   "id": "62246f74",
   "metadata": {},
   "source": [
    "based on the analysis of these plots it would make the most sense to go with a logistic regression approach"
   ]
  },
  {
   "cell_type": "markdown",
   "id": "5abc08af",
   "metadata": {},
   "source": [
    "# Modeling 3\n",
    "Using logistic regression to see if a tornado will occur in that county or not"
   ]
  },
  {
   "cell_type": "code",
   "execution_count": 23,
   "id": "5c2db74b",
   "metadata": {},
   "outputs": [
    {
     "data": {
      "text/plain": [
       "<AxesSubplot:xlabel='AvgTmp'>"
      ]
     },
     "execution_count": 23,
     "metadata": {},
     "output_type": "execute_result"
    },
    {
     "data": {
      "image/png": "[encoded data removed]",
      "text/plain": [
       "<Figure size 432x288 with 1 Axes>"
      ]
     },
     "metadata": {
      "needs_background": "light"
     },
     "output_type": "display_data"
    }
   ],
   "source": [
    "x_train = train[['AvgTmp']]\n",
    "y_train = train['TndOcc']\n",
    "model = LogisticRegression()\n",
    "model.fit(x_train, y_train)\n",
    "y_pred = model.predict(x_train)\n",
    "sns.scatterplot(x=x_train['AvgTmp'], y=y_pred)"
   ]
  },
  {
   "cell_type": "code",
   "execution_count": 24,
   "id": "68ffbdb8",
   "metadata": {},
   "outputs": [
    {
     "name": "stdout",
     "output_type": "stream",
     "text": [
      "accuracy =  0.801\n",
      "precision =  0.000\n",
      "recall =  0.000\n"
     ]
    },
    {
     "name": "stderr",
     "output_type": "stream",
     "text": [
      "C:\\Users\\chris\\anaconda3\\lib\\site-packages\\sklearn\\metrics\\_classification.py:1248: UndefinedMetricWarning: Precision is ill-defined and being set to 0.0 due to no predicted samples. Use `zero_division` parameter to control this behavior.\n",
      "  _warn_prf(average, modifier, msg_start, len(result))\n",
      "C:\\Users\\chris\\anaconda3\\lib\\site-packages\\sklearn\\metrics\\_classification.py:1248: UndefinedMetricWarning: Precision is ill-defined and being set to 0.0 due to no predicted samples. Use `zero_division` parameter to control this behavior.\n",
      "  _warn_prf(average, modifier, msg_start, len(result))\n",
      "C:\\Users\\chris\\anaconda3\\lib\\site-packages\\sklearn\\metrics\\_classification.py:1248: UndefinedMetricWarning: Precision is ill-defined and being set to 0.0 due to no predicted samples. Use `zero_division` parameter to control this behavior.\n",
      "  _warn_prf(average, modifier, msg_start, len(result))\n",
      "C:\\Users\\chris\\anaconda3\\lib\\site-packages\\sklearn\\metrics\\_classification.py:1248: UndefinedMetricWarning: Precision is ill-defined and being set to 0.0 due to no predicted samples. Use `zero_division` parameter to control this behavior.\n",
      "  _warn_prf(average, modifier, msg_start, len(result))\n",
      "C:\\Users\\chris\\anaconda3\\lib\\site-packages\\sklearn\\metrics\\_classification.py:1248: UndefinedMetricWarning: Precision is ill-defined and being set to 0.0 due to no predicted samples. Use `zero_division` parameter to control this behavior.\n",
      "  _warn_prf(average, modifier, msg_start, len(result))\n"
     ]
    }
   ],
   "source": [
    "accuracy = cross_val_score(model, x_train, y_train, scoring='accuracy', cv=5).mean()\n",
    "precision = cross_val_score(model, x_train, y_train, scoring='precision', cv=5).mean()\n",
    "recall = cross_val_score(model, x_train, y_train, scoring='recall', cv=5).mean()\n",
    "print(f\"accuracy = {accuracy:6.3f}\")\n",
    "print(f\"precision = {precision:6.3f}\")\n",
    "print(f\"recall = {recall:6.3f}\")"
   ]
  },
  {
   "cell_type": "markdown",
   "id": "db701da9",
   "metadata": {},
   "source": [
    "This model ended up only guessing zero and had about 80% accuracy. The data set is unbalanced in how often zero tornadoes occur in a year, so this needs to be balanced. "
   ]
  },
  {
   "cell_type": "code",
   "execution_count": 25,
   "id": "345227f3",
   "metadata": {},
   "outputs": [
    {
     "name": "stdout",
     "output_type": "stream",
     "text": [
      "Logistic Regression Models\n",
      "Logistic Model: AvgTmp\n",
      "accuracy =  0.522\n",
      "precision =  0.214\n",
      "recall =  0.525\n",
      "f_score =  0.304\n",
      "Logistic Model: AvgMaxTmp\n",
      "accuracy =  0.527\n",
      "precision =  0.212\n",
      "recall =  0.504\n",
      "f_score =  0.298\n",
      "Logistic Model: AvgMinTmp\n",
      "accuracy =  0.517\n",
      "precision =  0.212\n",
      "recall =  0.522\n",
      "f_score =  0.302\n",
      "Logistic Model: AvgPrecip\n",
      "accuracy =  0.500\n",
      "precision =  0.200\n",
      "recall =  0.505\n",
      "f_score =  0.286\n",
      "Logistic Model: TotPrecip\n",
      "accuracy =  0.500\n",
      "precision =  0.200\n",
      "recall =  0.505\n",
      "f_score =  0.286\n",
      "Logistic Model: MaxTmp\n",
      "accuracy =  0.536\n",
      "precision =  0.203\n",
      "recall =  0.453\n",
      "f_score =  0.280\n",
      "Logistic Model: MinTmp\n",
      "accuracy =  0.514\n",
      "precision =  0.206\n",
      "recall =  0.505\n",
      "f_score =  0.293\n",
      "Logistic Model: Combined\n",
      "accuracy =  0.512\n",
      "precision =  0.211\n",
      "recall =  0.527\n",
      "f_score =  0.301\n"
     ]
    }
   ],
   "source": [
    "logistic_regression_model(quant_attr, y_train)"
   ]
  },
  {
   "cell_type": "markdown",
   "id": "983f8015",
   "metadata": {},
   "source": [
    "Balancing the data set resulted in far less accurate models, but they have higher precision and recall. The accuracy is also higher than 0.5 which makes it better than a coin flip. It may not be much, but there is something here."
   ]
  },
  {
   "cell_type": "markdown",
   "id": "a2b66bab",
   "metadata": {},
   "source": [
    "# Modeling 4\n",
    "only using hot counties (counties with tornadoes at least once every 4 years on average for logistic prediction)"
   ]
  },
  {
   "cell_type": "code",
   "execution_count": 26,
   "id": "907c37b6",
   "metadata": {},
   "outputs": [],
   "source": [
    "quant_attr = hot_county_train[['AvgTmp', 'AvgMaxTmp', 'AvgMinTmp', 'AvgPrecip', 'TotPrecip', 'MaxTmp', 'MinTmp']]\n",
    "y_train = hot_county_train['TndOcc']"
   ]
  },
  {
   "cell_type": "code",
   "execution_count": 27,
   "id": "53852d14",
   "metadata": {},
   "outputs": [
    {
     "name": "stdout",
     "output_type": "stream",
     "text": [
      "Logistic Regression Models\n",
      "Logistic Model: AvgTmp\n",
      "accuracy =  0.486\n",
      "precision =  0.249\n",
      "recall =  0.507\n",
      "f_score =  0.334\n",
      "Logistic Model: AvgMaxTmp\n",
      "accuracy =  0.491\n",
      "precision =  0.253\n",
      "recall =  0.514\n",
      "f_score =  0.339\n",
      "Logistic Model: AvgMinTmp\n",
      "accuracy =  0.507\n",
      "precision =  0.260\n",
      "recall =  0.512\n",
      "f_score =  0.345\n",
      "Logistic Model: AvgPrecip\n",
      "accuracy =  0.496\n",
      "precision =  0.257\n",
      "recall =  0.524\n",
      "f_score =  0.345\n",
      "Logistic Model: TotPrecip\n",
      "accuracy =  0.449\n",
      "precision =  0.262\n",
      "recall =  0.639\n",
      "f_score =  0.372\n",
      "Logistic Model: MaxTmp\n",
      "accuracy =  0.516\n",
      "precision =  0.251\n",
      "recall =  0.454\n",
      "f_score =  0.323\n",
      "Logistic Model: MinTmp\n",
      "accuracy =  0.499\n",
      "precision =  0.246\n",
      "recall =  0.475\n",
      "f_score =  0.324\n",
      "Logistic Model: Combined\n",
      "accuracy =  0.525\n",
      "precision =  0.272\n",
      "recall =  0.524\n",
      "f_score =  0.358\n"
     ]
    }
   ],
   "source": [
    "logistic_regression_model(quant_attr, y_train)"
   ]
  },
  {
   "cell_type": "markdown",
   "id": "688eaa2d",
   "metadata": {},
   "source": [
    "Total precipitation proved to be a good predictor based on recall"
   ]
  },
  {
   "cell_type": "markdown",
   "id": "0cd72d53",
   "metadata": {},
   "source": [
    "# Modeling 5\n",
    "using only the hottest counties where tornadoes occur at least every 2 years on average"
   ]
  },
  {
   "cell_type": "code",
   "execution_count": 28,
   "id": "8ec9d6e6",
   "metadata": {},
   "outputs": [],
   "source": [
    "quant_attr = hotter_county_train[['AvgTmp', 'AvgMaxTmp', 'AvgMinTmp', 'AvgPrecip', 'TotPrecip', 'MaxTmp', 'MinTmp']]\n",
    "y_train = hotter_county_train['TndOcc']"
   ]
  },
  {
   "cell_type": "code",
   "execution_count": 29,
   "id": "20719d2b",
   "metadata": {
    "scrolled": false
   },
   "outputs": [
    {
     "name": "stdout",
     "output_type": "stream",
     "text": [
      "Logistic Regression Models\n",
      "Logistic Model: AvgTmp\n",
      "accuracy =  0.485\n",
      "precision =  0.417\n",
      "recall =  0.480\n",
      "f_score =  0.446\n",
      "Logistic Model: AvgMaxTmp\n",
      "accuracy =  0.489\n",
      "precision =  0.419\n",
      "recall =  0.497\n",
      "f_score =  0.455\n",
      "Logistic Model: AvgMinTmp\n",
      "accuracy =  0.493\n",
      "precision =  0.421\n",
      "recall =  0.488\n",
      "f_score =  0.452\n",
      "Logistic Model: AvgPrecip\n",
      "accuracy =  0.532\n",
      "precision =  0.461\n",
      "recall =  0.537\n",
      "f_score =  0.496\n",
      "Logistic Model: TotPrecip\n",
      "accuracy =  0.532\n",
      "precision =  0.461\n",
      "recall =  0.537\n",
      "f_score =  0.496\n",
      "Logistic Model: MaxTmp\n",
      "accuracy =  0.531\n",
      "precision =  0.457\n",
      "recall =  0.479\n",
      "f_score =  0.468\n",
      "Logistic Model: MinTmp\n",
      "accuracy =  0.482\n",
      "precision =  0.419\n",
      "recall =  0.521\n",
      "f_score =  0.465\n",
      "Logistic Model: Combined\n",
      "accuracy =  0.489\n",
      "precision =  0.414\n",
      "recall =  0.454\n",
      "f_score =  0.433\n"
     ]
    }
   ],
   "source": [
    "logistic_regression_model(quant_attr, y_train)"
   ]
  },
  {
   "cell_type": "code",
   "execution_count": 30,
   "id": "20d28a9e",
   "metadata": {},
   "outputs": [],
   "source": [
    "dummy = DummyClassifier(strategy='most_frequent')"
   ]
  },
  {
   "cell_type": "code",
   "execution_count": 31,
   "id": "7a041788",
   "metadata": {
    "scrolled": false
   },
   "outputs": [
    {
     "name": "stdout",
     "output_type": "stream",
     "text": [
      "Logistic Model: AvgTmp\n",
      "accuracy =  0.570\n",
      "precision =  0.086\n",
      "recall =  0.025\n"
     ]
    },
    {
     "name": "stderr",
     "output_type": "stream",
     "text": [
      "C:\\Users\\chris\\anaconda3\\lib\\site-packages\\sklearn\\metrics\\_classification.py:1248: UndefinedMetricWarning: Precision is ill-defined and being set to 0.0 due to no predicted samples. Use `zero_division` parameter to control this behavior.\n",
      "  _warn_prf(average, modifier, msg_start, len(result))\n",
      "C:\\Users\\chris\\anaconda3\\lib\\site-packages\\sklearn\\metrics\\_classification.py:1248: UndefinedMetricWarning: Precision is ill-defined and being set to 0.0 due to no predicted samples. Use `zero_division` parameter to control this behavior.\n",
      "  _warn_prf(average, modifier, msg_start, len(result))\n",
      "C:\\Users\\chris\\anaconda3\\lib\\site-packages\\sklearn\\metrics\\_classification.py:1248: UndefinedMetricWarning: Precision is ill-defined and being set to 0.0 due to no predicted samples. Use `zero_division` parameter to control this behavior.\n",
      "  _warn_prf(average, modifier, msg_start, len(result))\n",
      "C:\\Users\\chris\\anaconda3\\lib\\site-packages\\sklearn\\metrics\\_classification.py:1248: UndefinedMetricWarning: Precision is ill-defined and being set to 0.0 due to no predicted samples. Use `zero_division` parameter to control this behavior.\n",
      "  _warn_prf(average, modifier, msg_start, len(result))\n",
      "C:\\Users\\chris\\anaconda3\\lib\\site-packages\\sklearn\\metrics\\_classification.py:1248: UndefinedMetricWarning: Precision is ill-defined and being set to 0.0 due to no predicted samples. Use `zero_division` parameter to control this behavior.\n",
      "  _warn_prf(average, modifier, msg_start, len(result))\n",
      "C:\\Users\\chris\\anaconda3\\lib\\site-packages\\sklearn\\metrics\\_classification.py:1248: UndefinedMetricWarning: Precision is ill-defined and being set to 0.0 due to no predicted samples. Use `zero_division` parameter to control this behavior.\n",
      "  _warn_prf(average, modifier, msg_start, len(result))\n",
      "C:\\Users\\chris\\anaconda3\\lib\\site-packages\\sklearn\\metrics\\_classification.py:1248: UndefinedMetricWarning: Precision is ill-defined and being set to 0.0 due to no predicted samples. Use `zero_division` parameter to control this behavior.\n",
      "  _warn_prf(average, modifier, msg_start, len(result))\n",
      "C:\\Users\\chris\\anaconda3\\lib\\site-packages\\sklearn\\metrics\\_classification.py:1248: UndefinedMetricWarning: Precision is ill-defined and being set to 0.0 due to no predicted samples. Use `zero_division` parameter to control this behavior.\n",
      "  _warn_prf(average, modifier, msg_start, len(result))\n"
     ]
    },
    {
     "name": "stdout",
     "output_type": "stream",
     "text": [
      "Logistic Model: AvgMaxTmp\n",
      "accuracy =  0.560\n",
      "precision =  0.060\n",
      "recall =  0.025\n",
      "Logistic Model: AvgMinTmp\n",
      "accuracy =  0.574\n",
      "precision =  0.100\n",
      "recall =  0.017\n",
      "Logistic Model: AvgPrecip\n",
      "accuracy =  0.567\n",
      "precision =  0.050\n",
      "recall =  0.008\n"
     ]
    },
    {
     "name": "stderr",
     "output_type": "stream",
     "text": [
      "C:\\Users\\chris\\anaconda3\\lib\\site-packages\\sklearn\\metrics\\_classification.py:1248: UndefinedMetricWarning: Precision is ill-defined and being set to 0.0 due to no predicted samples. Use `zero_division` parameter to control this behavior.\n",
      "  _warn_prf(average, modifier, msg_start, len(result))\n",
      "C:\\Users\\chris\\anaconda3\\lib\\site-packages\\sklearn\\metrics\\_classification.py:1248: UndefinedMetricWarning: Precision is ill-defined and being set to 0.0 due to no predicted samples. Use `zero_division` parameter to control this behavior.\n",
      "  _warn_prf(average, modifier, msg_start, len(result))\n",
      "C:\\Users\\chris\\anaconda3\\lib\\site-packages\\sklearn\\metrics\\_classification.py:1248: UndefinedMetricWarning: Precision is ill-defined and being set to 0.0 due to no predicted samples. Use `zero_division` parameter to control this behavior.\n",
      "  _warn_prf(average, modifier, msg_start, len(result))\n",
      "C:\\Users\\chris\\anaconda3\\lib\\site-packages\\sklearn\\metrics\\_classification.py:1248: UndefinedMetricWarning: Precision is ill-defined and being set to 0.0 due to no predicted samples. Use `zero_division` parameter to control this behavior.\n",
      "  _warn_prf(average, modifier, msg_start, len(result))\n",
      "C:\\Users\\chris\\anaconda3\\lib\\site-packages\\sklearn\\metrics\\_classification.py:1248: UndefinedMetricWarning: Precision is ill-defined and being set to 0.0 due to no predicted samples. Use `zero_division` parameter to control this behavior.\n",
      "  _warn_prf(average, modifier, msg_start, len(result))\n",
      "C:\\Users\\chris\\anaconda3\\lib\\site-packages\\sklearn\\metrics\\_classification.py:1248: UndefinedMetricWarning: Precision is ill-defined and being set to 0.0 due to no predicted samples. Use `zero_division` parameter to control this behavior.\n",
      "  _warn_prf(average, modifier, msg_start, len(result))\n",
      "C:\\Users\\chris\\anaconda3\\lib\\site-packages\\sklearn\\metrics\\_classification.py:1248: UndefinedMetricWarning: Precision is ill-defined and being set to 0.0 due to no predicted samples. Use `zero_division` parameter to control this behavior.\n",
      "  _warn_prf(average, modifier, msg_start, len(result))\n",
      "C:\\Users\\chris\\anaconda3\\lib\\site-packages\\sklearn\\metrics\\_classification.py:1248: UndefinedMetricWarning: Precision is ill-defined and being set to 0.0 due to no predicted samples. Use `zero_division` parameter to control this behavior.\n",
      "  _warn_prf(average, modifier, msg_start, len(result))\n",
      "C:\\Users\\chris\\anaconda3\\lib\\site-packages\\sklearn\\metrics\\_classification.py:1248: UndefinedMetricWarning: Precision is ill-defined and being set to 0.0 due to no predicted samples. Use `zero_division` parameter to control this behavior.\n",
      "  _warn_prf(average, modifier, msg_start, len(result))\n",
      "C:\\Users\\chris\\anaconda3\\lib\\site-packages\\sklearn\\metrics\\_classification.py:1248: UndefinedMetricWarning: Precision is ill-defined and being set to 0.0 due to no predicted samples. Use `zero_division` parameter to control this behavior.\n",
      "  _warn_prf(average, modifier, msg_start, len(result))\n",
      "C:\\Users\\chris\\anaconda3\\lib\\site-packages\\sklearn\\metrics\\_classification.py:1248: UndefinedMetricWarning: Precision is ill-defined and being set to 0.0 due to no predicted samples. Use `zero_division` parameter to control this behavior.\n",
      "  _warn_prf(average, modifier, msg_start, len(result))\n"
     ]
    },
    {
     "name": "stdout",
     "output_type": "stream",
     "text": [
      "Logistic Model: TotPrecip\n",
      "accuracy =  0.563\n",
      "precision =  0.040\n",
      "recall =  0.008\n",
      "Logistic Model: MaxTmp\n",
      "accuracy =  0.563\n",
      "precision =  0.467\n",
      "recall =  0.050\n"
     ]
    },
    {
     "name": "stderr",
     "output_type": "stream",
     "text": [
      "C:\\Users\\chris\\anaconda3\\lib\\site-packages\\sklearn\\metrics\\_classification.py:1248: UndefinedMetricWarning: Precision is ill-defined and being set to 0.0 due to no predicted samples. Use `zero_division` parameter to control this behavior.\n",
      "  _warn_prf(average, modifier, msg_start, len(result))\n",
      "C:\\Users\\chris\\anaconda3\\lib\\site-packages\\sklearn\\metrics\\_classification.py:1248: UndefinedMetricWarning: Precision is ill-defined and being set to 0.0 due to no predicted samples. Use `zero_division` parameter to control this behavior.\n",
      "  _warn_prf(average, modifier, msg_start, len(result))\n",
      "C:\\Users\\chris\\anaconda3\\lib\\site-packages\\sklearn\\metrics\\_classification.py:1248: UndefinedMetricWarning: Precision is ill-defined and being set to 0.0 due to no predicted samples. Use `zero_division` parameter to control this behavior.\n",
      "  _warn_prf(average, modifier, msg_start, len(result))\n",
      "C:\\Users\\chris\\anaconda3\\lib\\site-packages\\sklearn\\metrics\\_classification.py:1248: UndefinedMetricWarning: Precision is ill-defined and being set to 0.0 due to no predicted samples. Use `zero_division` parameter to control this behavior.\n",
      "  _warn_prf(average, modifier, msg_start, len(result))\n",
      "C:\\Users\\chris\\anaconda3\\lib\\site-packages\\sklearn\\metrics\\_classification.py:1248: UndefinedMetricWarning: Precision is ill-defined and being set to 0.0 due to no predicted samples. Use `zero_division` parameter to control this behavior.\n",
      "  _warn_prf(average, modifier, msg_start, len(result))\n",
      "C:\\Users\\chris\\anaconda3\\lib\\site-packages\\sklearn\\metrics\\_classification.py:1248: UndefinedMetricWarning: Precision is ill-defined and being set to 0.0 due to no predicted samples. Use `zero_division` parameter to control this behavior.\n",
      "  _warn_prf(average, modifier, msg_start, len(result))\n"
     ]
    },
    {
     "name": "stdout",
     "output_type": "stream",
     "text": [
      "Logistic Model: MinTmp\n",
      "accuracy =  0.574\n",
      "precision =  0.000\n",
      "recall =  0.000\n"
     ]
    },
    {
     "name": "stderr",
     "output_type": "stream",
     "text": [
      "C:\\Users\\chris\\anaconda3\\lib\\site-packages\\sklearn\\metrics\\_classification.py:1248: UndefinedMetricWarning: Precision is ill-defined and being set to 0.0 due to no predicted samples. Use `zero_division` parameter to control this behavior.\n",
      "  _warn_prf(average, modifier, msg_start, len(result))\n"
     ]
    }
   ],
   "source": [
    "for i in range(quant_attr.shape[1]):\n",
    "    x_train = pd.DataFrame(quant_attr.iloc[:, i])\n",
    "    dummy = LogisticRegression()\n",
    "    dummy.fit(x_train, y_train)\n",
    "    accuracy = cross_val_score(dummy, x_train, y_train, scoring='accuracy', cv=5).mean()\n",
    "    precision = cross_val_score(dummy, x_train, y_train, scoring='precision', cv=5).mean()\n",
    "    recall = cross_val_score(dummy, x_train, y_train, scoring='recall', cv=5).mean()    \n",
    "    print(f\"Logistic Model: {quant_attr.columns[i]}\")\n",
    "    print(f\"accuracy = {accuracy:6.3f}\")\n",
    "    print(f\"precision = {precision:6.3f}\")\n",
    "    print(f\"recall = {recall:6.3f}\")"
   ]
  },
  {
   "cell_type": "code",
   "execution_count": 32,
   "id": "084180a3",
   "metadata": {
    "scrolled": true
   },
   "outputs": [
    {
     "name": "stdout",
     "output_type": "stream",
     "text": [
      "Logistic Model: Combined\n",
      "accuracy =  0.531\n",
      "precision =  0.457\n",
      "recall =  0.479\n",
      "f_score =  0.468\n"
     ]
    }
   ],
   "source": [
    "quant_attr = hotter_county_train[['MaxTmp']]\n",
    "y_train = hotter_county_train['TndOcc']\n",
    "logistic_regression_model_combined(quant_attr, y_train)"
   ]
  },
  {
   "cell_type": "code",
   "execution_count": 33,
   "id": "de223233",
   "metadata": {},
   "outputs": [
    {
     "name": "stdout",
     "output_type": "stream",
     "text": [
      "Logistic Model: Combined\n",
      "accuracy =  0.496\n",
      "precision =  0.427\n",
      "recall =  0.520\n",
      "f_score =  0.469\n"
     ]
    }
   ],
   "source": [
    "quant_attr = hotter_county_train[['MaxTmp', 'AvgPrecip']]\n",
    "y_train = hotter_county_train['TndOcc']\n",
    "logistic_regression_model_combined(quant_attr, y_train)"
   ]
  },
  {
   "cell_type": "markdown",
   "id": "1478ec82",
   "metadata": {},
   "source": [
    "# Modeling 6\n",
    "Using logistic regression with the original data, but onehot encoding counties and using a standard scaler"
   ]
  },
  {
   "cell_type": "code",
   "execution_count": 34,
   "id": "65503b17",
   "metadata": {},
   "outputs": [],
   "source": [
    "y_train = train['TndOcc']\n",
    "X_train = train[['County', 'AvgTmp', 'AvgMaxTmp', 'AvgMinTmp', 'AvgPrecip', 'TotPrecip', 'MaxTmp', 'MinTmp']]\n",
    "categorical = ['County']\n",
    "quantitative = ['AvgTmp', 'AvgMaxTmp', 'AvgMinTmp', 'AvgPrecip', 'TotPrecip', 'MaxTmp', 'MinTmp']"
   ]
  },
  {
   "cell_type": "code",
   "execution_count": 35,
   "id": "270eb8b1",
   "metadata": {},
   "outputs": [
    {
     "name": "stdout",
     "output_type": "stream",
     "text": [
      "Logistic Regression Models One Hot Encoding ['County']\n",
      "One Hot Logistic Model: AvgTmp\n",
      "accuracy =  0.551\n",
      "precision =  0.248\n",
      "recall =  0.618\n",
      "f_score =  0.354\n",
      "One Hot Logistic Model: AvgMaxTmp\n",
      "accuracy =  0.556\n",
      "precision =  0.251\n",
      "recall =  0.619\n",
      "f_score =  0.357\n",
      "One Hot Logistic Model: AvgMinTmp\n",
      "accuracy =  0.548\n",
      "precision =  0.246\n",
      "recall =  0.612\n",
      "f_score =  0.351\n",
      "One Hot Logistic Model: AvgPrecip\n",
      "accuracy =  0.547\n",
      "precision =  0.247\n",
      "recall =  0.621\n",
      "f_score =  0.354\n",
      "One Hot Logistic Model: TotPrecip\n",
      "accuracy =  0.547\n",
      "precision =  0.247\n",
      "recall =  0.621\n",
      "f_score =  0.354\n",
      "One Hot Logistic Model: MaxTmp\n",
      "accuracy =  0.547\n",
      "precision =  0.245\n",
      "recall =  0.613\n",
      "f_score =  0.351\n",
      "One Hot Logistic Model: MinTmp\n",
      "accuracy =  0.551\n",
      "precision =  0.248\n",
      "recall =  0.617\n",
      "f_score =  0.354\n",
      "One Hot Logistic Model: Combined\n",
      "accuracy =  0.564\n",
      "precision =  0.252\n",
      "recall =  0.603\n",
      "f_score =  0.356\n"
     ]
    }
   ],
   "source": [
    "logistic_regression_onehot(X_train, y_train, categorical, quantitative)"
   ]
  },
  {
   "cell_type": "markdown",
   "id": "5f92fa66",
   "metadata": {},
   "source": [
    "Total precipitation and average precipitation proved to be good indicators when used with the one hot encoded counties based on recall, but average max temperature looks to be the best predictor all around. Precision scores have also dropped drastically using this onehot encoded data"
   ]
  },
  {
   "cell_type": "markdown",
   "id": "8fecf943",
   "metadata": {},
   "source": [
    "# Modeling 7\n",
    "Using rolling averages in conjunction with one hot encoded county data"
   ]
  },
  {
   "cell_type": "code",
   "execution_count": 36,
   "id": "a3ce64df",
   "metadata": {},
   "outputs": [],
   "source": [
    "rolling_avg = tnd_climate[['County', 'Year', 'AvgTmp', 'AvgMaxTmp', 'AvgMinTmp', 'AvgPrecip', 'TotPrecip', 'MaxTmp', 'MinTmp', 'Count', 'TndOcc']]"
   ]
  },
  {
   "cell_type": "markdown",
   "id": "e9f0d201",
   "metadata": {},
   "source": [
    "Calculate the average temperature over the last five years (including current), average precipitation over the last five years (including current), and average tornado count (not including current) for each county each year"
   ]
  },
  {
   "cell_type": "code",
   "execution_count": 37,
   "id": "5bd4171c",
   "metadata": {
    "scrolled": true
   },
   "outputs": [
    {
     "name": "stderr",
     "output_type": "stream",
     "text": [
      "C:\\Users\\chris\\anaconda3\\lib\\site-packages\\pandas\\core\\indexing.py:1684: SettingWithCopyWarning: \n",
      "A value is trying to be set on a copy of a slice from a DataFrame.\n",
      "Try using .loc[row_indexer,col_indexer] = value instead\n",
      "\n",
      "See the caveats in the documentation: https://pandas.pydata.org/pandas-docs/stable/user_guide/indexing.html#returning-a-view-versus-a-copy\n",
      "  self.obj[key] = infer_fill_value(value)\n",
      "C:\\Users\\chris\\anaconda3\\lib\\site-packages\\pandas\\core\\indexing.py:1817: SettingWithCopyWarning: \n",
      "A value is trying to be set on a copy of a slice from a DataFrame.\n",
      "Try using .loc[row_indexer,col_indexer] = value instead\n",
      "\n",
      "See the caveats in the documentation: https://pandas.pydata.org/pandas-docs/stable/user_guide/indexing.html#returning-a-view-versus-a-copy\n",
      "  self._setitem_single_column(loc, value, pi)\n"
     ]
    }
   ],
   "source": [
    "for county in list(rolling_avg['County'].unique()):\n",
    "    for i in range(1954, 2021):\n",
    "        AvgAvgMaxTmp_5 = 0\n",
    "        AvgAvgMinTmp_5 = 0\n",
    "        AvgAvgPrecip_5 = 0\n",
    "        AvgPrecip_5 = 0\n",
    "        AvgMaxTmp_5 = 0\n",
    "        AvgMinTmp_5 = 0\n",
    "        AvgTmp_5 = 0\n",
    "        \n",
    "        for j in range(i - 4, i + 1):\n",
    "            AvgAvgMaxTmp_5 += float(rolling_avg[(rolling_avg['County'] == county) & (rolling_avg['Year'] == j)]['AvgMaxTmp'])\n",
    "            AvgAvgMinTmp_5 += float(rolling_avg[(rolling_avg['County'] == county) & (rolling_avg['Year'] == j)]['AvgMinTmp'])\n",
    "            AvgAvgPrecip_5 += float(rolling_avg[(rolling_avg['County'] == county) & (rolling_avg['Year'] == j)]['AvgPrecip'])\n",
    "            AvgPrecip_5 += float(rolling_avg[(rolling_avg['County'] == county) & (rolling_avg['Year'] == j)]['TotPrecip'])\n",
    "            AvgMaxTmp_5 += float(rolling_avg[(rolling_avg['County'] == county) & (rolling_avg['Year'] == j)]['MaxTmp'])\n",
    "            AvgMinTmp_5 += float(rolling_avg[(rolling_avg['County'] == county) & (rolling_avg['Year'] == j)]['MinTmp'])\n",
    "            AvgTmp_5 += float(rolling_avg[(rolling_avg['County'] == county) & (rolling_avg['Year'] == j)]['AvgTmp'])\n",
    "            \n",
    "\n",
    "        rolling_avg.loc[(rolling_avg['County'] == county) & (rolling_avg['Year'] == i), 'AvgAvgMaxTmp_5'] = AvgAvgMaxTmp_5 / 5\n",
    "        rolling_avg.loc[(rolling_avg['County'] == county) & (rolling_avg['Year'] == i), 'AvgAvgMinTmp_5'] = AvgAvgMinTmp_5 / 5\n",
    "        rolling_avg.loc[(rolling_avg['County'] == county) & (rolling_avg['Year'] == i), 'AvgAvgPrecip_5'] = AvgAvgPrecip_5 / 5\n",
    "        rolling_avg.loc[(rolling_avg['County'] == county) & (rolling_avg['Year'] == i), 'AvgPrecip_5'] = AvgPrecip_5 / 5\n",
    "        rolling_avg.loc[(rolling_avg['County'] == county) & (rolling_avg['Year'] == i), 'AvgMaxTmp_5'] = AvgMaxTmp_5 / 5\n",
    "        rolling_avg.loc[(rolling_avg['County'] == county) & (rolling_avg['Year'] == i), 'AvgMinTmp_5'] = AvgMinTmp_5 / 5\n",
    "        rolling_avg.loc[(rolling_avg['County'] == county) & (rolling_avg['Year'] == i), 'AvgTmp_5'] = AvgTmp_5 / 5"
   ]
  },
  {
   "cell_type": "code",
   "execution_count": 38,
   "id": "3a139234",
   "metadata": {
    "scrolled": false
   },
   "outputs": [],
   "source": [
    "for county in list(rolling_avg['County'].unique()):\n",
    "    for i in range(1955, 2021):\n",
    "        AvgCount_5 = 0\n",
    "        \n",
    "        for j in range(i - 5, i):\n",
    "            AvgCount_5 += float(rolling_avg[(rolling_avg['County'] == county) & (rolling_avg['Year'] == j)]['Count'])\n",
    "            \n",
    "        AvgCount_5 = AvgCount_5 / 5\n",
    "        rolling_avg.loc[(rolling_avg['County'] == county) & (rolling_avg['Year'] == i), 'AvgCount_5'] = AvgCount_5"
   ]
  },
  {
   "cell_type": "markdown",
   "id": "34c7ed1e",
   "metadata": {},
   "source": [
    "The first 6 years of data for each county will need to be cut out since it will have NaN values for AvgCount_5"
   ]
  },
  {
   "cell_type": "code",
   "execution_count": 39,
   "id": "d35aadd8",
   "metadata": {},
   "outputs": [],
   "source": [
    "roll_train, roll_test = train_test_split(rolling_avg, test_size = 0.2, random_state=10)"
   ]
  },
  {
   "cell_type": "code",
   "execution_count": 40,
   "id": "46ccdb2d",
   "metadata": {
    "scrolled": false
   },
   "outputs": [
    {
     "name": "stdout",
     "output_type": "stream",
     "text": [
      "Logistic Regression Models One Hot Encoding ['County']\n",
      "One Hot Logistic Model: AvgAvgMaxTmp_5\n",
      "accuracy =  0.547\n",
      "precision =  0.256\n",
      "recall =  0.618\n",
      "f_score =  0.362\n",
      "One Hot Logistic Model: AvgAvgMinTmp_5\n",
      "accuracy =  0.544\n",
      "precision =  0.255\n",
      "recall =  0.616\n",
      "f_score =  0.361\n",
      "One Hot Logistic Model: AvgAvgPrecip_5\n",
      "accuracy =  0.543\n",
      "precision =  0.254\n",
      "recall =  0.619\n",
      "f_score =  0.361\n",
      "One Hot Logistic Model: AvgPrecip_5\n",
      "accuracy =  0.543\n",
      "precision =  0.254\n",
      "recall =  0.619\n",
      "f_score =  0.361\n",
      "One Hot Logistic Model: AvgMaxTmp_5\n",
      "accuracy =  0.547\n",
      "precision =  0.255\n",
      "recall =  0.610\n",
      "f_score =  0.360\n",
      "One Hot Logistic Model: AvgMinTmp_5\n",
      "accuracy =  0.550\n",
      "precision =  0.256\n",
      "recall =  0.610\n",
      "f_score =  0.361\n",
      "One Hot Logistic Model: AvgTmp_5\n",
      "accuracy =  0.545\n",
      "precision =  0.255\n",
      "recall =  0.616\n",
      "f_score =  0.361\n",
      "One Hot Logistic Model: AvgCount_5\n",
      "accuracy =  0.544\n",
      "precision =  0.254\n",
      "recall =  0.612\n",
      "f_score =  0.359\n",
      "One Hot Logistic Model: Combined\n",
      "accuracy =  0.554\n",
      "precision =  0.254\n",
      "recall =  0.586\n",
      "f_score =  0.354\n"
     ]
    }
   ],
   "source": [
    "valid_data = roll_train[roll_train['AvgCount_5'].notnull()]\n",
    "X_train = valid_data[['County', 'AvgAvgMaxTmp_5', 'AvgAvgMinTmp_5', 'AvgAvgPrecip_5', 'AvgPrecip_5', 'AvgMaxTmp_5', 'AvgMinTmp_5', 'AvgTmp_5', 'AvgCount_5']]\n",
    "y_train = valid_data['TndOcc']\n",
    "categorical = ['County']\n",
    "quantitative = ['AvgAvgMaxTmp_5', 'AvgAvgMinTmp_5', 'AvgAvgPrecip_5', 'AvgPrecip_5', 'AvgMaxTmp_5', 'AvgMinTmp_5', 'AvgTmp_5', 'AvgCount_5']\n",
    "logistic_regression_onehot(X_train, y_train, categorical, quantitative)"
   ]
  },
  {
   "cell_type": "markdown",
   "id": "4ae0fc07",
   "metadata": {},
   "source": [
    "The average of the average minimum winter temperature and average winter temperature over 5 years and performed best in terms of f_score, but average maximum winter temperature over 5 years performed best in terms of recall."
   ]
  },
  {
   "cell_type": "markdown",
   "id": "29cfda7b",
   "metadata": {},
   "source": [
    "# Modeling 8\n",
    "Using how recently tornadoes occurred in a location for prediction"
   ]
  },
  {
   "cell_type": "code",
   "execution_count": 41,
   "id": "5487ddef",
   "metadata": {},
   "outputs": [
    {
     "name": "stderr",
     "output_type": "stream",
     "text": [
      "C:\\Users\\chris\\AppData\\Local\\Temp/ipykernel_19020/3537178241.py:2: SettingWithCopyWarning: \n",
      "A value is trying to be set on a copy of a slice from a DataFrame.\n",
      "Try using .loc[row_indexer,col_indexer] = value instead\n",
      "\n",
      "See the caveats in the documentation: https://pandas.pydata.org/pandas-docs/stable/user_guide/indexing.html#returning-a-view-versus-a-copy\n",
      "  past_tnd['Lst1YrTnd'] = 0\n",
      "C:\\Users\\chris\\AppData\\Local\\Temp/ipykernel_19020/3537178241.py:3: SettingWithCopyWarning: \n",
      "A value is trying to be set on a copy of a slice from a DataFrame.\n",
      "Try using .loc[row_indexer,col_indexer] = value instead\n",
      "\n",
      "See the caveats in the documentation: https://pandas.pydata.org/pandas-docs/stable/user_guide/indexing.html#returning-a-view-versus-a-copy\n",
      "  past_tnd['Lst2YrTnd'] = 0\n",
      "C:\\Users\\chris\\AppData\\Local\\Temp/ipykernel_19020/3537178241.py:4: SettingWithCopyWarning: \n",
      "A value is trying to be set on a copy of a slice from a DataFrame.\n",
      "Try using .loc[row_indexer,col_indexer] = value instead\n",
      "\n",
      "See the caveats in the documentation: https://pandas.pydata.org/pandas-docs/stable/user_guide/indexing.html#returning-a-view-versus-a-copy\n",
      "  past_tnd['Lst3YrTnd'] = 0\n"
     ]
    }
   ],
   "source": [
    "past_tnd = rolling_avg[['Year', 'County', 'AvgAvgMaxTmp_5', 'AvgAvgMinTmp_5', 'AvgAvgPrecip_5', 'AvgPrecip_5', 'AvgMaxTmp_5', 'AvgMinTmp_5', 'AvgTmp_5', 'AvgCount_5', 'TndOcc']]\n",
    "past_tnd['Lst1YrTnd'] = 0\n",
    "past_tnd['Lst2YrTnd'] = 0\n",
    "past_tnd['Lst3YrTnd'] = 0"
   ]
  },
  {
   "cell_type": "code",
   "execution_count": 42,
   "id": "f147fbe7",
   "metadata": {},
   "outputs": [
    {
     "name": "stderr",
     "output_type": "stream",
     "text": [
      "C:\\Users\\chris\\anaconda3\\lib\\site-packages\\pandas\\core\\indexing.py:1817: SettingWithCopyWarning: \n",
      "A value is trying to be set on a copy of a slice from a DataFrame.\n",
      "Try using .loc[row_indexer,col_indexer] = value instead\n",
      "\n",
      "See the caveats in the documentation: https://pandas.pydata.org/pandas-docs/stable/user_guide/indexing.html#returning-a-view-versus-a-copy\n",
      "  self._setitem_single_column(loc, value, pi)\n"
     ]
    }
   ],
   "source": [
    "for county in list(past_tnd['County'].unique()):\n",
    "    for i in range(1951, 2021):\n",
    "        if(int(past_tnd[(past_tnd['County'] == county) & (past_tnd['Year'] == i-1)]['TndOcc']) == 1):\n",
    "            past_tnd.loc[(past_tnd['County'] == county) & (past_tnd['Year'] == i), 'Lst1YrTnd'] = 1\n",
    "            \n",
    "    for i in range(1952, 2021):\n",
    "        if(int(past_tnd[(past_tnd['County'] == county) & (past_tnd['Year'] == i-1)]['TndOcc']) == 1 or int(past_tnd[(past_tnd['County'] == county) & (past_tnd['Year'] == i-2)]['TndOcc']) == 1):\n",
    "            past_tnd.loc[(past_tnd['County'] == county) & (past_tnd['Year'] == i), 'Lst2YrTnd'] = 1\n",
    "            \n",
    "    for i in range(1953, 2021):\n",
    "        if(int(past_tnd[(past_tnd['County'] == county) & (past_tnd['Year'] == i-1)]['TndOcc']) == 1 or int(past_tnd[(past_tnd['County'] == county) & (past_tnd['Year'] == i-2)]['TndOcc']) == 1) or int((past_tnd[(past_tnd['County'] == county) & (past_tnd['Year'] == i-3)]['TndOcc']) == 1):\n",
    "            past_tnd.loc[(past_tnd['County'] == county) & (past_tnd['Year'] == i), 'Lst3YrTnd'] = 1"
   ]
  },
  {
   "cell_type": "code",
   "execution_count": 43,
   "id": "b9bbac39",
   "metadata": {},
   "outputs": [
    {
     "name": "stderr",
     "output_type": "stream",
     "text": [
      "C:\\Users\\chris\\anaconda3\\lib\\site-packages\\pandas\\core\\indexing.py:1773: SettingWithCopyWarning: \n",
      "A value is trying to be set on a copy of a slice from a DataFrame.\n",
      "Try using .loc[row_indexer,col_indexer] = value instead\n",
      "\n",
      "See the caveats in the documentation: https://pandas.pydata.org/pandas-docs/stable/user_guide/indexing.html#returning-a-view-versus-a-copy\n",
      "  self._setitem_single_column(ilocs[0], value, pi)\n"
     ]
    }
   ],
   "source": [
    "past_tnd.loc[:, 'Lst1YrTnd'] = past_tnd['Lst1YrTnd'].astype('category')\n",
    "past_tnd.loc[:, 'Lst2YrTnd'] = past_tnd['Lst2YrTnd'].astype('category')\n",
    "past_tnd.loc[:, 'Lst3YrTnd'] = past_tnd['Lst3YrTnd'].astype('category')"
   ]
  },
  {
   "cell_type": "code",
   "execution_count": 44,
   "id": "1a96a0a7",
   "metadata": {},
   "outputs": [],
   "source": [
    "past_train, past_test = train_test_split(past_tnd, test_size = 0.2, random_state=10)"
   ]
  },
  {
   "cell_type": "code",
   "execution_count": 45,
   "id": "bfe073d9",
   "metadata": {
    "scrolled": false
   },
   "outputs": [
    {
     "name": "stdout",
     "output_type": "stream",
     "text": [
      "Logistic Regression Models One Hot Encoding ['County', 'Lst1YrTnd']\n",
      "One Hot Logistic Model: AvgAvgMaxTmp_5\n",
      "accuracy =  0.552\n",
      "precision =  0.258\n",
      "recall =  0.611\n",
      "f_score =  0.363\n",
      "One Hot Logistic Model: AvgAvgMinTmp_5\n",
      "accuracy =  0.551\n",
      "precision =  0.256\n",
      "recall =  0.609\n",
      "f_score =  0.361\n",
      "One Hot Logistic Model: AvgAvgPrecip_5\n",
      "accuracy =  0.548\n",
      "precision =  0.255\n",
      "recall =  0.606\n",
      "f_score =  0.359\n",
      "One Hot Logistic Model: AvgPrecip_5\n",
      "accuracy =  0.548\n",
      "precision =  0.255\n",
      "recall =  0.606\n",
      "f_score =  0.359\n",
      "One Hot Logistic Model: AvgMaxTmp_5\n",
      "accuracy =  0.550\n",
      "precision =  0.256\n",
      "recall =  0.609\n",
      "f_score =  0.360\n",
      "One Hot Logistic Model: AvgMinTmp_5\n",
      "accuracy =  0.555\n",
      "precision =  0.259\n",
      "recall =  0.610\n",
      "f_score =  0.364\n",
      "One Hot Logistic Model: AvgTmp_5\n",
      "accuracy =  0.552\n",
      "precision =  0.257\n",
      "recall =  0.610\n",
      "f_score =  0.362\n",
      "One Hot Logistic Model: AvgCount_5\n",
      "accuracy =  0.548\n",
      "precision =  0.255\n",
      "recall =  0.607\n",
      "f_score =  0.359\n",
      "One Hot Logistic Model: Combined\n",
      "accuracy =  0.556\n",
      "precision =  0.257\n",
      "recall =  0.596\n",
      "f_score =  0.359\n"
     ]
    }
   ],
   "source": [
    "valid_data = past_train[past_train['AvgCount_5'].notnull()]\n",
    "X_train = valid_data[['County', 'Lst1YrTnd', 'AvgAvgMaxTmp_5', 'AvgAvgMinTmp_5', 'AvgAvgPrecip_5', 'AvgPrecip_5', 'AvgMaxTmp_5', 'AvgMinTmp_5', 'AvgTmp_5', 'AvgCount_5']]\n",
    "y_train = valid_data['TndOcc']\n",
    "categorical = ['County', 'Lst1YrTnd']\n",
    "quantitative = ['AvgAvgMaxTmp_5', 'AvgAvgMinTmp_5', 'AvgAvgPrecip_5', 'AvgPrecip_5', 'AvgMaxTmp_5', 'AvgMinTmp_5', 'AvgTmp_5', 'AvgCount_5']\n",
    "logistic_regression_onehot(X_train, y_train, categorical, quantitative)"
   ]
  },
  {
   "cell_type": "code",
   "execution_count": 46,
   "id": "73cf0b18",
   "metadata": {
    "scrolled": false
   },
   "outputs": [
    {
     "name": "stdout",
     "output_type": "stream",
     "text": [
      "Logistic Regression Models One Hot Encoding ['County', 'Lst2YrTnd']\n",
      "One Hot Logistic Model: AvgAvgMaxTmp_5\n",
      "accuracy =  0.544\n",
      "precision =  0.253\n",
      "recall =  0.610\n",
      "f_score =  0.358\n",
      "One Hot Logistic Model: AvgAvgMinTmp_5\n",
      "accuracy =  0.544\n",
      "precision =  0.254\n",
      "recall =  0.612\n",
      "f_score =  0.359\n",
      "One Hot Logistic Model: AvgAvgPrecip_5\n",
      "accuracy =  0.544\n",
      "precision =  0.253\n",
      "recall =  0.607\n",
      "f_score =  0.357\n",
      "One Hot Logistic Model: AvgPrecip_5\n",
      "accuracy =  0.544\n",
      "precision =  0.253\n",
      "recall =  0.607\n",
      "f_score =  0.357\n",
      "One Hot Logistic Model: AvgMaxTmp_5\n",
      "accuracy =  0.545\n",
      "precision =  0.253\n",
      "recall =  0.605\n",
      "f_score =  0.357\n",
      "One Hot Logistic Model: AvgMinTmp_5\n",
      "accuracy =  0.551\n",
      "precision =  0.257\n",
      "recall =  0.610\n",
      "f_score =  0.362\n",
      "One Hot Logistic Model: AvgTmp_5\n",
      "accuracy =  0.544\n",
      "precision =  0.253\n",
      "recall =  0.611\n",
      "f_score =  0.358\n",
      "One Hot Logistic Model: AvgCount_5\n",
      "accuracy =  0.544\n",
      "precision =  0.253\n",
      "recall =  0.609\n",
      "f_score =  0.358\n",
      "One Hot Logistic Model: Combined\n",
      "accuracy =  0.553\n",
      "precision =  0.254\n",
      "recall =  0.588\n",
      "f_score =  0.354\n"
     ]
    }
   ],
   "source": [
    "X_train = valid_data[['County', 'Lst2YrTnd', 'AvgAvgMaxTmp_5', 'AvgAvgMinTmp_5', 'AvgAvgPrecip_5', 'AvgPrecip_5', 'AvgMaxTmp_5', 'AvgMinTmp_5', 'AvgTmp_5', 'AvgCount_5']]\n",
    "y_train = valid_data['TndOcc']\n",
    "categorical = ['County', 'Lst2YrTnd']\n",
    "quantitative = ['AvgAvgMaxTmp_5', 'AvgAvgMinTmp_5', 'AvgAvgPrecip_5', 'AvgPrecip_5', 'AvgMaxTmp_5', 'AvgMinTmp_5', 'AvgTmp_5', 'AvgCount_5']\n",
    "logistic_regression_onehot(X_train, y_train, categorical, quantitative)"
   ]
  },
  {
   "cell_type": "code",
   "execution_count": 47,
   "id": "e5aa0285",
   "metadata": {
    "scrolled": false
   },
   "outputs": [
    {
     "name": "stdout",
     "output_type": "stream",
     "text": [
      "Logistic Regression Models One Hot Encoding ['County', 'Lst3YrTnd']\n",
      "One Hot Logistic Model: AvgAvgMaxTmp_5\n",
      "accuracy =  0.544\n",
      "precision =  0.255\n",
      "recall =  0.615\n",
      "f_score =  0.360\n",
      "One Hot Logistic Model: AvgAvgMinTmp_5\n",
      "accuracy =  0.544\n",
      "precision =  0.254\n",
      "recall =  0.615\n",
      "f_score =  0.360\n",
      "One Hot Logistic Model: AvgAvgPrecip_5\n",
      "accuracy =  0.542\n",
      "precision =  0.254\n",
      "recall =  0.619\n",
      "f_score =  0.360\n",
      "One Hot Logistic Model: AvgPrecip_5\n",
      "accuracy =  0.542\n",
      "precision =  0.254\n",
      "recall =  0.619\n",
      "f_score =  0.360\n",
      "One Hot Logistic Model: AvgMaxTmp_5\n",
      "accuracy =  0.544\n",
      "precision =  0.252\n",
      "recall =  0.604\n",
      "f_score =  0.355\n",
      "One Hot Logistic Model: AvgMinTmp_5\n",
      "accuracy =  0.549\n",
      "precision =  0.256\n",
      "recall =  0.610\n",
      "f_score =  0.361\n",
      "One Hot Logistic Model: AvgTmp_5\n",
      "accuracy =  0.544\n",
      "precision =  0.254\n",
      "recall =  0.612\n",
      "f_score =  0.359\n",
      "One Hot Logistic Model: AvgCount_5\n",
      "accuracy =  0.543\n",
      "precision =  0.254\n",
      "recall =  0.613\n",
      "f_score =  0.359\n",
      "One Hot Logistic Model: Combined\n",
      "accuracy =  0.554\n",
      "precision =  0.253\n",
      "recall =  0.583\n",
      "f_score =  0.353\n"
     ]
    }
   ],
   "source": [
    "X_train = valid_data[['County', 'Lst3YrTnd', 'AvgAvgMaxTmp_5', 'AvgAvgMinTmp_5', 'AvgAvgPrecip_5', 'AvgPrecip_5', 'AvgMaxTmp_5', 'AvgMinTmp_5', 'AvgTmp_5', 'AvgCount_5']]\n",
    "y_train = valid_data['TndOcc']\n",
    "categorical = ['County', 'Lst3YrTnd']\n",
    "quantitative = ['AvgAvgMaxTmp_5', 'AvgAvgMinTmp_5', 'AvgAvgPrecip_5', 'AvgPrecip_5', 'AvgMaxTmp_5', 'AvgMinTmp_5', 'AvgTmp_5', 'AvgCount_5']\n",
    "logistic_regression_onehot(X_train, y_train, categorical, quantitative)"
   ]
  },
  {
   "cell_type": "markdown",
   "id": "56751a13",
   "metadata": {},
   "source": [
    "There was not much improvement expanding tornado occurrence past 1 year"
   ]
  },
  {
   "cell_type": "code",
   "execution_count": 48,
   "id": "65c3ddf4",
   "metadata": {
    "scrolled": false
   },
   "outputs": [
    {
     "name": "stdout",
     "output_type": "stream",
     "text": [
      "Logistic Regression Models One Hot Encoding ['County', 'Lst1YrTnd']\n",
      "One Hot Logistic Model: Combined\n",
      "accuracy =  0.553\n",
      "precision =  0.251\n",
      "recall =  0.613\n",
      "f_score =  0.356\n"
     ]
    }
   ],
   "source": [
    "valid_data = past_train[past_train['Year'] > 1950]\n",
    "X_train = valid_data[['County', 'Lst1YrTnd']]\n",
    "y_train = valid_data['TndOcc']\n",
    "categorical = ['County', 'Lst1YrTnd']\n",
    "quantitative = []\n",
    "logistic_regression_onehot(X_train, y_train, categorical, quantitative)"
   ]
  },
  {
   "cell_type": "code",
   "execution_count": 49,
   "id": "0fbcf172",
   "metadata": {},
   "outputs": [
    {
     "name": "stdout",
     "output_type": "stream",
     "text": [
      "Logistic Regression Models One Hot Encoding ['County', 'Lst2YrTnd']\n",
      "One Hot Logistic Model: Combined\n",
      "accuracy =  0.551\n",
      "precision =  0.250\n",
      "recall =  0.607\n",
      "f_score =  0.354\n"
     ]
    }
   ],
   "source": [
    "valid_data = past_train[past_train['Year'] > 1951]\n",
    "X_train = valid_data[['County', 'Lst2YrTnd']]\n",
    "y_train = valid_data['TndOcc']\n",
    "categorical = ['County', 'Lst2YrTnd']\n",
    "quantitative = []\n",
    "logistic_regression_onehot(X_train, y_train, categorical, quantitative)"
   ]
  },
  {
   "cell_type": "code",
   "execution_count": 50,
   "id": "4e16f78f",
   "metadata": {
    "scrolled": true
   },
   "outputs": [
    {
     "name": "stdout",
     "output_type": "stream",
     "text": [
      "Logistic Regression Models One Hot Encoding ['County', 'Lst3YrTnd']\n",
      "One Hot Logistic Model: Combined\n",
      "accuracy =  0.555\n",
      "precision =  0.257\n",
      "recall =  0.616\n",
      "f_score =  0.363\n"
     ]
    }
   ],
   "source": [
    "valid_data = past_train[past_train['Year'] > 1952]\n",
    "X_train = valid_data[['County', 'Lst3YrTnd']]\n",
    "y_train = valid_data['TndOcc']\n",
    "categorical = ['County', 'Lst3YrTnd']\n",
    "quantitative = []\n",
    "logistic_regression_onehot(X_train, y_train, categorical, quantitative)"
   ]
  },
  {
   "cell_type": "code",
   "execution_count": 51,
   "id": "1db16756",
   "metadata": {},
   "outputs": [
    {
     "name": "stdout",
     "output_type": "stream",
     "text": [
      "Logistic Regression Models One Hot Encoding ['Lst1YrTnd']\n",
      "One Hot Logistic Model: Combined\n",
      "accuracy =  0.704\n",
      "precision =  0.263\n",
      "recall =  0.260\n",
      "f_score =  0.261\n"
     ]
    }
   ],
   "source": [
    "valid_data = past_train[past_train['Year'] > 1950]\n",
    "X_train = valid_data[['Lst1YrTnd']]\n",
    "y_train = valid_data['TndOcc']\n",
    "categorical = ['Lst1YrTnd']\n",
    "quantitative = []\n",
    "logistic_regression_onehot(X_train, y_train, categorical, quantitative)"
   ]
  },
  {
   "cell_type": "code",
   "execution_count": 52,
   "id": "cad880d4",
   "metadata": {},
   "outputs": [
    {
     "name": "stdout",
     "output_type": "stream",
     "text": [
      "Logistic Regression Models One Hot Encoding ['Lst2YrTnd']\n",
      "One Hot Logistic Model: Combined\n",
      "accuracy =  0.621\n",
      "precision =  0.245\n",
      "recall =  0.417\n",
      "f_score =  0.309\n"
     ]
    }
   ],
   "source": [
    "valid_data = past_train[past_train['Year'] > 1951]\n",
    "X_train = valid_data[['Lst2YrTnd']]\n",
    "y_train = valid_data['TndOcc']\n",
    "categorical = ['Lst2YrTnd']\n",
    "quantitative = []\n",
    "logistic_regression_onehot(X_train, y_train, categorical, quantitative)"
   ]
  },
  {
   "cell_type": "code",
   "execution_count": 53,
   "id": "b90a5242",
   "metadata": {},
   "outputs": [
    {
     "name": "stdout",
     "output_type": "stream",
     "text": [
      "Logistic Regression Models One Hot Encoding ['Lst3YrTnd']\n",
      "One Hot Logistic Model: Combined\n",
      "accuracy =  0.556\n",
      "precision =  0.243\n",
      "recall =  0.550\n",
      "f_score =  0.337\n"
     ]
    }
   ],
   "source": [
    "valid_data = past_train[past_train['Year'] > 1952]\n",
    "X_train = valid_data[['Lst3YrTnd']]\n",
    "y_train = valid_data['TndOcc']\n",
    "categorical = ['Lst3YrTnd']\n",
    "quantitative = []\n",
    "logistic_regression_onehot(X_train, y_train, categorical, quantitative)"
   ]
  },
  {
   "cell_type": "code",
   "execution_count": 54,
   "id": "0fb0fd95",
   "metadata": {
    "scrolled": false
   },
   "outputs": [
    {
     "name": "stdout",
     "output_type": "stream",
     "text": [
      "Logistic Regression Models One Hot Encoding ['County']\n",
      "One Hot Logistic Model: Combined\n",
      "accuracy =  0.548\n",
      "precision =  0.246\n",
      "recall =  0.614\n",
      "f_score =  0.351\n"
     ]
    }
   ],
   "source": [
    "valid_data = past_train[['County', 'TndOcc']]\n",
    "X_train = valid_data[['County']]\n",
    "y_train = valid_data['TndOcc']\n",
    "categorical = ['County']\n",
    "quantitative = []\n",
    "logistic_regression_onehot(X_train, y_train, categorical, quantitative)"
   ]
  },
  {
   "cell_type": "code",
   "execution_count": 55,
   "id": "19f507ac",
   "metadata": {
    "scrolled": true
   },
   "outputs": [
    {
     "name": "stdout",
     "output_type": "stream",
     "text": [
      "One Hot Logistic Model: Combined\n",
      "accuracy =  0.558\n",
      "precision =  0.260\n",
      "recall =  0.609\n",
      "f_score =  0.365\n"
     ]
    }
   ],
   "source": [
    "valid_data = past_train[past_train['Year'] > 1953]\n",
    "X_train = valid_data[['County', 'Lst1YrTnd', 'AvgAvgMaxTmp_5']]\n",
    "y_train = valid_data['TndOcc']\n",
    "categorical = ['County', 'Lst1YrTnd']\n",
    "quantitative = ['AvgAvgMaxTmp_5']\n",
    "logistic_regression_onehot_combined(X_train, y_train, categorical, quantitative)"
   ]
  },
  {
   "cell_type": "markdown",
   "id": "9e3868a3",
   "metadata": {},
   "source": [
    "This appeared to be one of the better models when testing all the attributes one after another. I want to explore how other attributes work with this individually."
   ]
  },
  {
   "cell_type": "code",
   "execution_count": 56,
   "id": "5f1eb97e",
   "metadata": {},
   "outputs": [
    {
     "name": "stdout",
     "output_type": "stream",
     "text": [
      "One Hot Logistic Model: Combined\n",
      "accuracy =  0.563\n",
      "precision =  0.261\n",
      "recall =  0.599\n",
      "f_score =  0.363\n"
     ]
    }
   ],
   "source": [
    "X_train = valid_data[['County', 'Lst1YrTnd', 'AvgAvgMaxTmp_5', 'AvgMaxTmp_5']]\n",
    "y_train = valid_data['TndOcc']\n",
    "categorical = ['County', 'Lst1YrTnd']\n",
    "quantitative = ['AvgAvgMaxTmp_5', 'AvgMaxTmp_5']\n",
    "logistic_regression_onehot_combined(X_train, y_train, categorical, quantitative)"
   ]
  },
  {
   "cell_type": "code",
   "execution_count": 57,
   "id": "1852ecd9",
   "metadata": {
    "scrolled": true
   },
   "outputs": [
    {
     "name": "stdout",
     "output_type": "stream",
     "text": [
      "One Hot Logistic Model: Combined\n",
      "accuracy =  0.557\n",
      "precision =  0.260\n",
      "recall =  0.610\n",
      "f_score =  0.365\n"
     ]
    }
   ],
   "source": [
    "X_train = valid_data[['County', 'Lst1YrTnd', 'AvgAvgMaxTmp_5', 'AvgPrecip_5']]\n",
    "y_train = valid_data['TndOcc']\n",
    "categorical = ['County', 'Lst1YrTnd']\n",
    "quantitative = ['AvgAvgMaxTmp_5', 'AvgPrecip_5']\n",
    "logistic_regression_onehot_combined(X_train, y_train, categorical, quantitative)"
   ]
  },
  {
   "cell_type": "markdown",
   "id": "28758326",
   "metadata": {},
   "source": [
    "Just using the average of the average maximum temperature over 5 years resulted in the higher f_score"
   ]
  },
  {
   "cell_type": "markdown",
   "id": "96ed0335",
   "metadata": {},
   "source": [
    "# Modeling 9\n",
    "Using the average of the average maximum winter temperature over 5 years, county name, and whether or not a tornado occurred the previous year in the final model."
   ]
  },
  {
   "cell_type": "code",
   "execution_count": 58,
   "id": "2f278e78",
   "metadata": {},
   "outputs": [],
   "source": [
    "from sklearn.metrics import accuracy_score, precision_score, recall_score"
   ]
  },
  {
   "cell_type": "code",
   "execution_count": 59,
   "id": "723c9df2",
   "metadata": {},
   "outputs": [],
   "source": [
    "test_set = past_test[past_test['Year'] > 1953]\n",
    "train_set = past_train[past_train['Year'] > 1953]"
   ]
  },
  {
   "cell_type": "code",
   "execution_count": 60,
   "id": "e65b3657",
   "metadata": {},
   "outputs": [],
   "source": [
    "column_trans = ColumnTransformer(transformers=[\n",
    "    ('scaler', StandardScaler(), ['AvgAvgMaxTmp_5']),\n",
    "    ('onehot', OneHotEncoder(), ['County', 'Lst1YrTnd'])\n",
    "])\n",
    "\n",
    "model = Pipeline(steps=[\n",
    "    ('preprocessor', column_trans),\n",
    "    ('lm', LogisticRegression(class_weight='balanced', max_iter=200))\n",
    "])"
   ]
  },
  {
   "cell_type": "code",
   "execution_count": 61,
   "id": "0f7304ae",
   "metadata": {
    "scrolled": true
   },
   "outputs": [
    {
     "name": "stdout",
     "output_type": "stream",
     "text": [
      "Final Model Metrics\n",
      "accuracy =  0.544\n",
      "precision =  0.246\n",
      "recall =  0.593\n",
      "f_score =  0.348\n"
     ]
    }
   ],
   "source": [
    "X_train = train_set[['AvgAvgMaxTmp_5', 'County', 'Lst1YrTnd']]\n",
    "y_train = train_set['TndOcc']\n",
    "X_test = test_set[['AvgAvgMaxTmp_5', 'County', 'Lst1YrTnd']]\n",
    "y_test = test_set['TndOcc']\n",
    "model.fit(X_train, y_train)\n",
    "y_pred = model.predict(X_test)\n",
    "\n",
    "accuracy = accuracy_score(y_test, y_pred)\n",
    "precision = precision_score(y_test, y_pred)\n",
    "recall = recall_score(y_test, y_pred)\n",
    "f_score = 2 * (precision * recall) / (precision + recall)\n",
    "\n",
    "print(\"Final Model Metrics\")\n",
    "print(f\"accuracy = {accuracy:6.3f}\")\n",
    "print(f\"precision = {precision:6.3f}\")\n",
    "print(f\"recall = {recall:6.3f}\") \n",
    "print(f\"f_score = {f_score:6.3f}\")\n"
   ]
  },
  {
   "cell_type": "markdown",
   "id": "e3db2317",
   "metadata": {},
   "source": [
    "# Modeling 10\n",
    "Using final model to make 2022 predictions"
   ]
  },
  {
   "cell_type": "code",
   "execution_count": 62,
   "id": "6384722c",
   "metadata": {},
   "outputs": [],
   "source": [
    "data = pd.read_csv('data/max_monthly_tmp_1895-2022_county.csv')"
   ]
  },
  {
   "cell_type": "code",
   "execution_count": 63,
   "id": "9edcf62c",
   "metadata": {},
   "outputs": [],
   "source": [
    "data = data[['Location', 'Date', 'Value']]"
   ]
  },
  {
   "cell_type": "code",
   "execution_count": 64,
   "id": "5d01a5f3",
   "metadata": {},
   "outputs": [],
   "source": [
    "data['Year'] = data['Date'].astype(str).str[0:4].astype('int64')\n",
    "data['Month'] = data['Date'].astype(str).str[4:].astype('int64')\n",
    "data = data[(data['Year'] > 2017) & (data['Month'] < 4)]\n",
    "data = data[['Location', 'Value', 'Year']]\n",
    "data.columns = ['County', 'MaxTmp', 'Year']"
   ]
  },
  {
   "cell_type": "code",
   "execution_count": 65,
   "id": "ae8033a2",
   "metadata": {},
   "outputs": [],
   "source": [
    "data = data.groupby(['County', 'Year'])[['MaxTmp']].mean()\n",
    "data.columns = ['AvgMaxTmp']"
   ]
  },
  {
   "cell_type": "code",
   "execution_count": 66,
   "id": "a0166c72",
   "metadata": {},
   "outputs": [
    {
     "data": {
      "text/html": [
       "<div>\n",
       "<style scoped>\n",
       "    .dataframe tbody tr th:only-of-type {\n",
       "        vertical-align: middle;\n",
       "    }\n",
       "\n",
       "    .dataframe tbody tr th {\n",
       "        vertical-align: top;\n",
       "    }\n",
       "\n",
       "    .dataframe thead th {\n",
       "        text-align: right;\n",
       "    }\n",
       "</style>\n",
       "<table border=\"1\" class=\"dataframe\">\n",
       "  <thead>\n",
       "    <tr style=\"text-align: right;\">\n",
       "      <th></th>\n",
       "      <th>County</th>\n",
       "      <th>Year</th>\n",
       "      <th>AvgMaxTmp</th>\n",
       "    </tr>\n",
       "  </thead>\n",
       "  <tbody>\n",
       "    <tr>\n",
       "      <th>0</th>\n",
       "      <td>Adams County</td>\n",
       "      <td>2018</td>\n",
       "      <td>33.133333</td>\n",
       "    </tr>\n",
       "    <tr>\n",
       "      <th>1</th>\n",
       "      <td>Adams County</td>\n",
       "      <td>2019</td>\n",
       "      <td>29.400000</td>\n",
       "    </tr>\n",
       "    <tr>\n",
       "      <th>2</th>\n",
       "      <td>Adams County</td>\n",
       "      <td>2020</td>\n",
       "      <td>35.800000</td>\n",
       "    </tr>\n",
       "    <tr>\n",
       "      <th>3</th>\n",
       "      <td>Adams County</td>\n",
       "      <td>2021</td>\n",
       "      <td>33.766667</td>\n",
       "    </tr>\n",
       "    <tr>\n",
       "      <th>4</th>\n",
       "      <td>Adams County</td>\n",
       "      <td>2022</td>\n",
       "      <td>30.466667</td>\n",
       "    </tr>\n",
       "  </tbody>\n",
       "</table>\n",
       "</div>"
      ],
      "text/plain": [
       "         County  Year  AvgMaxTmp\n",
       "0  Adams County  2018  33.133333\n",
       "1  Adams County  2019  29.400000\n",
       "2  Adams County  2020  35.800000\n",
       "3  Adams County  2021  33.766667\n",
       "4  Adams County  2022  30.466667"
      ]
     },
     "execution_count": 66,
     "metadata": {},
     "output_type": "execute_result"
    }
   ],
   "source": [
    "data.to_csv('data/clean/final_prediction_data')\n",
    "data = pd.read_csv('data/clean/final_prediction_data')\n",
    "data.head()"
   ]
  },
  {
   "cell_type": "code",
   "execution_count": 67,
   "id": "2a868367",
   "metadata": {},
   "outputs": [],
   "source": [
    "for county in list(data['County'].unique()):\n",
    "    AvgAvgMaxTmp_5 = 0\n",
    "\n",
    "    for j in range(2018, 2023):\n",
    "        AvgAvgMaxTmp_5 += float(data[(data['County'] == county) & (data['Year'] == j)]['AvgMaxTmp'])\n",
    "\n",
    "    data.loc[(data['County'] == county) & (data['Year'] == 2022), 'AvgAvgMaxTmp_5'] = AvgAvgMaxTmp_5 / 5"
   ]
  },
  {
   "cell_type": "code",
   "execution_count": 68,
   "id": "c0467354",
   "metadata": {},
   "outputs": [],
   "source": [
    "data = data[data['Year'] == 2022]"
   ]
  },
  {
   "cell_type": "code",
   "execution_count": 69,
   "id": "953c6fd9",
   "metadata": {},
   "outputs": [
    {
     "data": {
      "text/html": [
       "<div>\n",
       "<style scoped>\n",
       "    .dataframe tbody tr th:only-of-type {\n",
       "        vertical-align: middle;\n",
       "    }\n",
       "\n",
       "    .dataframe tbody tr th {\n",
       "        vertical-align: top;\n",
       "    }\n",
       "\n",
       "    .dataframe thead th {\n",
       "        text-align: right;\n",
       "    }\n",
       "</style>\n",
       "<table border=\"1\" class=\"dataframe\">\n",
       "  <thead>\n",
       "    <tr style=\"text-align: right;\">\n",
       "      <th></th>\n",
       "      <th>County</th>\n",
       "      <th>Year</th>\n",
       "      <th>AvgMaxTmp</th>\n",
       "      <th>AvgAvgMaxTmp_5</th>\n",
       "    </tr>\n",
       "  </thead>\n",
       "  <tbody>\n",
       "    <tr>\n",
       "      <th>4</th>\n",
       "      <td>Adams County</td>\n",
       "      <td>2022</td>\n",
       "      <td>30.466667</td>\n",
       "      <td>32.513333</td>\n",
       "    </tr>\n",
       "    <tr>\n",
       "      <th>9</th>\n",
       "      <td>Ashland County</td>\n",
       "      <td>2022</td>\n",
       "      <td>23.166667</td>\n",
       "      <td>26.766667</td>\n",
       "    </tr>\n",
       "    <tr>\n",
       "      <th>14</th>\n",
       "      <td>Barron County</td>\n",
       "      <td>2022</td>\n",
       "      <td>25.233333</td>\n",
       "      <td>28.213333</td>\n",
       "    </tr>\n",
       "    <tr>\n",
       "      <th>19</th>\n",
       "      <td>Bayfield County</td>\n",
       "      <td>2022</td>\n",
       "      <td>23.600000</td>\n",
       "      <td>27.006667</td>\n",
       "    </tr>\n",
       "    <tr>\n",
       "      <th>24</th>\n",
       "      <td>Brown County</td>\n",
       "      <td>2022</td>\n",
       "      <td>29.966667</td>\n",
       "      <td>31.760000</td>\n",
       "    </tr>\n",
       "  </tbody>\n",
       "</table>\n",
       "</div>"
      ],
      "text/plain": [
       "             County  Year  AvgMaxTmp  AvgAvgMaxTmp_5\n",
       "4      Adams County  2022  30.466667       32.513333\n",
       "9    Ashland County  2022  23.166667       26.766667\n",
       "14    Barron County  2022  25.233333       28.213333\n",
       "19  Bayfield County  2022  23.600000       27.006667\n",
       "24     Brown County  2022  29.966667       31.760000"
      ]
     },
     "execution_count": 69,
     "metadata": {},
     "output_type": "execute_result"
    }
   ],
   "source": [
    "data.head()"
   ]
  },
  {
   "cell_type": "markdown",
   "id": "749e02e5",
   "metadata": {},
   "source": [
    "Manually inputting from NOAA whether or not a tornado occurred last year in the county"
   ]
  },
  {
   "cell_type": "code",
   "execution_count": 70,
   "id": "4ecd280e",
   "metadata": {},
   "outputs": [],
   "source": [
    "data['Lst1YrTnd'] = 0\n",
    "data.loc[data['County'] == 'Rusk County', 'Lst1YrTnd'] = 1\n",
    "data.loc[data['County'] == 'Chippewa County', 'Lst1YrTnd'] = 1\n",
    "data.loc[data['County'] == 'Lincoln County', 'Lst1YrTnd'] = 1\n",
    "data.loc[data['County'] == 'Marathon County', 'Lst1YrTnd'] = 1\n",
    "data.loc[data['County'] == 'St. Croix County', 'Lst1YrTnd'] = 1\n",
    "data.loc[data['County'] == 'Waushara County', 'Lst1YrTnd'] = 1\n",
    "data.loc[data['County'] == 'Columbia County', 'Lst1YrTnd'] = 1\n",
    "data.loc[data['County'] == 'Dane County', 'Lst1YrTnd'] = 1\n",
    "data.loc[data['County'] == 'Jefferson County', 'Lst1YrTnd'] = 1\n",
    "data.loc[data['County'] == 'Waukesha County', 'Lst1YrTnd'] = 1\n",
    "data.loc[data['County'] == 'Grant County', 'Lst1YrTnd'] = 1\n",
    "data.loc[data['County'] == 'Iowa County', 'Lst1YrTnd'] = 1\n",
    "data.loc[data['County'] == 'Rock County', 'Lst1YrTnd'] = 1\n",
    "data.loc[data['County'] == 'Outagamie County', 'Lst1YrTnd'] = 1\n",
    "data.loc[data['County'] == 'Monroe County', 'Lst1YrTnd'] = 1\n",
    "data.loc[data['County'] == 'Shawano County', 'Lst1YrTnd'] = 1\n",
    "data.loc[data['County'] == 'Brown County', 'Lst1YrTnd'] = 1\n",
    "data.loc[data['County'] == 'Trempealeau County', 'Lst1YrTnd'] = 1\n",
    "data.loc[data['County'] == 'Jackson County', 'Lst1YrTnd'] = 1\n",
    "data.loc[data['County'] == 'Eau Claire County', 'Lst1YrTnd'] = 1\n",
    "data.loc[data['County'] == 'Clark County', 'Lst1YrTnd'] = 1"
   ]
  },
  {
   "cell_type": "code",
   "execution_count": 71,
   "id": "8d6a6bd1",
   "metadata": {},
   "outputs": [],
   "source": [
    "data = data[['County', 'AvgAvgMaxTmp_5', 'Lst1YrTnd']]\n",
    "data.loc[data['County'] == 'St. Croix County', 'County'] = 'Saint Croix County'\n",
    "data = data[data['County'] != 'Menominee County']"
   ]
  },
  {
   "cell_type": "code",
   "execution_count": 72,
   "id": "e05842e6",
   "metadata": {},
   "outputs": [
    {
     "data": {
      "text/plain": [
       "array([0, 0, 1, 0, 1, 0, 0, 0, 1, 1, 1, 0, 1, 1, 0, 0, 0, 1, 0, 1, 0, 1,\n",
       "       1, 0, 1, 0, 1, 1, 1, 0, 0, 1, 1, 0, 1, 1, 1, 0, 1, 0, 1, 0, 1, 1,\n",
       "       0, 0, 1, 1, 0, 1, 0, 0, 1, 0, 1, 0, 0, 0, 1, 0, 1, 1, 0, 1, 0, 1,\n",
       "       1, 0, 0, 1, 0], dtype=int64)"
      ]
     },
     "execution_count": 72,
     "metadata": {},
     "output_type": "execute_result"
    }
   ],
   "source": [
    "model.fit(X_train, y_train)\n",
    "y_pred = model.predict(data[['AvgAvgMaxTmp_5', 'County', 'Lst1YrTnd']])\n",
    "y_pred"
   ]
  },
  {
   "cell_type": "code",
   "execution_count": 73,
   "id": "c5a8dc24",
   "metadata": {},
   "outputs": [],
   "source": [
    "data['2022Pred'] = y_pred"
   ]
  },
  {
   "cell_type": "code",
   "execution_count": 74,
   "id": "27dcb4dd",
   "metadata": {},
   "outputs": [],
   "source": [
    "data.to_csv('data/clean/interactive_map_data')"
   ]
  },
  {
   "cell_type": "code",
   "execution_count": 79,
   "id": "0b363fa9",
   "metadata": {
    "scrolled": false
   },
   "outputs": [
    {
     "data": {
      "text/plain": [
       "<matplotlib.legend.Legend at 0x2eeb50bfdc0>"
      ]
     },
     "execution_count": 79,
     "metadata": {},
     "output_type": "execute_result"
    },
    {
     "data": {
      "image/png": "[encoded data removed]",
      "text/plain": [
       "<Figure size 432x288 with 1 Axes>"
      ]
     },
     "metadata": {
      "needs_background": "light"
     },
     "output_type": "display_data"
    }
   ],
   "source": [
    "plot = sns.lineplot(data=past_tnd[past_tnd['Year'] > 1952], x='Year', y='AvgTmp_5', ci=None, color='darkblue')\n",
    "sns.lineplot(data=tnd_climate[tnd_climate['Year'] > 1952], x='Year', y='AvgTmp', ci=None, color='lightblue', legend=True, ax=plot)\n",
    "plot.set(xlabel='Year', ylabel=\"5 Year Average of Winter Temperature \\n(degrees Fahrenheight)\")\n",
    "plot.spines['right'].set_visible(False)\n",
    "plot.spines['top'].set_visible(False)\n",
    "plot.legend(['5 Year Average Temperature', 'Average Temperature'])"
   ]
  },
  {
   "cell_type": "code",
   "execution_count": null,
   "id": "5cf30640",
   "metadata": {},
   "outputs": [],
   "source": []
  },
  {
   "cell_type": "code",
   "execution_count": null,
   "id": "ae39f9ca",
   "metadata": {},
   "outputs": [],
   "source": []
  }
 ],
 "metadata": {
  "kernelspec": {
   "display_name": "Python 3 (ipykernel)",
   "language": "python",
   "name": "python3"
  },
  "language_info": {
   "codemirror_mode": {
    "name": "ipython",
    "version": 3
   },
   "file_extension": ".py",
   "mimetype": "text/x-python",
   "name": "python",
   "nbconvert_exporter": "python",
   "pygments_lexer": "ipython3",
   "version": "3.9.7"
  }
 },
 "nbformat": 4,
 "nbformat_minor": 5
}
